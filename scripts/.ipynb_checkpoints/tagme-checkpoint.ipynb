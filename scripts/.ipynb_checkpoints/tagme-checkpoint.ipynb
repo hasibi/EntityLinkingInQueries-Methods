{
 "metadata": {
  "name": "",
  "signature": "sha256:0a6fda41bd4b25201c6f0e784d8cc1ec932c72ede35092a19feebd85ef59f9ae"
 },
 "nbformat": 3,
 "nbformat_minor": 0,
 "worksheets": [
  {
   "cells": [
    {
     "cell_type": "code",
     "collapsed": false,
     "input": [
      "import numpy as np\n",
      "import pandas as pd\n",
      "from pandas import DataFrame as df"
     ],
     "language": "python",
     "metadata": {},
     "outputs": [],
     "prompt_number": 1
    },
    {
     "cell_type": "code",
     "collapsed": false,
     "input": [
      "# Query pre-porsessing\n",
      "cols = ['Prec_ann', 'Rec_ann', 'F1_ann', 'Prec_topics', 'Rec_topics', 'F1_topics']\n",
      "rows = ['Paper', 'API', 'API-rev'] #', 'API (th=0.2)', 'API (th=0.3)']\n",
      "\n",
      "# res = [[0.7627, 0.7608, 0.7617,  0.7841, 0.7748, 0.7794], \n",
      "#        [0.5153, 0.7215, 0.5790,  0.5127, 0.7965, 0.6238],  # API (th=0.1)\n",
      "#        [0.6625, 0.6585, 0.6354,  0.6796, 0.7319, 0.7048],  # API (th=0.1)\n",
      "#        [0.7166, 0.5662, 0.6038,  0.7621, 0.6365, 0.6937]]  # API (th=0.3)\n",
      "\n",
      "res = [[0.7627, 0.7608, 0.7617,  0.7841, 0.7748, 0.7794], \n",
      "#        [0.5506, 0.7970, 0.6296,  0.5127, 0.7965, 0.6238],  # API (th=0.1)\n",
      "       [0.6997, 0.7305, 0.6912,  0.6796, 0.7319, 0.7048],  # API (th=0.2)\n",
      "       [0.7025, 0.7304, 0.7162,  0.6998, 0.7387, 0.7187],  # null queries removed\n",
      "       [ , , ,   0.6932, 0.7314, 0.7118]]\n",
      "0.6925, 0.7116, 0.7019\n",
      "#        [0.7527, 0.6343, 0.6605,  0.7621, 0.6365, 0.6937]]  # API (th=0.3)\n",
      "\n",
      "print \"TagMe API results For Wiki-annot30 dataset\"\n",
      "my_df = df(res, index=rows, columns=cols)\n",
      "my_df\n",
      "\n",
      "# my_df_data = {'  YSQLE': my_df.ix[:, [0, 1, 2]], ' Y-ERD': my_df.ix[:, [3, 4, 5]], 'ERD-dev': my_df.ix[:, [6, 7, 8]]}\n",
      "# pd.concat(my_df, axis=1)"
     ],
     "language": "python",
     "metadata": {},
     "outputs": [
      {
       "ename": "SyntaxError",
       "evalue": "invalid syntax (<ipython-input-2-abf164af0679>, line 14)",
       "output_type": "pyerr",
       "traceback": [
        "\u001b[0;36m  File \u001b[0;32m\"<ipython-input-2-abf164af0679>\"\u001b[0;36m, line \u001b[0;32m14\u001b[0m\n\u001b[0;31m    [ , , ,   0.6932, 0.7314, 0.7118]]\u001b[0m\n\u001b[0m      ^\u001b[0m\n\u001b[0;31mSyntaxError\u001b[0m\u001b[0;31m:\u001b[0m invalid syntax\n"
       ]
      }
     ],
     "prompt_number": 2
    },
    {
     "cell_type": "code",
     "collapsed": false,
     "input": [
      "# Query pre-porsessing\n",
      "cols = ['P', 'R', 'F1']\n",
      "rows = ['Paper', 'API'] \n",
      "\n",
      "res = [[0.915, 0.909, 0.912],\n",
      "       [0.7025, 0.7304, 0.7162]]  # null queries removed\n",
      "\n",
      "print \"TagMe API results For Wiki-annot30 dataset\"\n",
      "my_df = df(res, index=rows, columns=cols)\n",
      "my_df\n",
      "\n",
      "# my_df_data = {'  YSQLE': my_df.ix[:, [0, 1, 2]], ' Y-ERD': my_df.ix[:, [3, 4, 5]], 'ERD-dev': my_df.ix[:, [6, 7, 8]]}\n",
      "# pd.concat(my_df, axis=1)"
     ],
     "language": "python",
     "metadata": {},
     "outputs": [
      {
       "output_type": "stream",
       "stream": "stdout",
       "text": [
        "TagMe API results For Wiki-annot30 dataset\n"
       ]
      },
      {
       "html": [
        "<div style=\"max-height:1000px;max-width:1500px;overflow:auto;\">\n",
        "<table border=\"1\" class=\"dataframe\">\n",
        "  <thead>\n",
        "    <tr style=\"text-align: right;\">\n",
        "      <th></th>\n",
        "      <th>P</th>\n",
        "      <th>R</th>\n",
        "      <th>F1</th>\n",
        "    </tr>\n",
        "  </thead>\n",
        "  <tbody>\n",
        "    <tr>\n",
        "      <th>Paper</th>\n",
        "      <td> 0.9150</td>\n",
        "      <td> 0.9090</td>\n",
        "      <td> 0.9120</td>\n",
        "    </tr>\n",
        "    <tr>\n",
        "      <th>API</th>\n",
        "      <td> 0.7025</td>\n",
        "      <td> 0.7304</td>\n",
        "      <td> 0.7162</td>\n",
        "    </tr>\n",
        "  </tbody>\n",
        "</table>\n",
        "</div>"
       ],
       "metadata": {},
       "output_type": "pyout",
       "prompt_number": 3,
       "text": [
        "            P       R      F1\n",
        "Paper  0.9150  0.9090  0.9120\n",
        "API    0.7025  0.7304  0.7162"
       ]
      }
     ],
     "prompt_number": 3
    },
    {
     "cell_type": "code",
     "collapsed": false,
     "input": [
      "# Query pre-porsessing\n",
      "cols = ['Prec', 'Rec', 'F1', 'Prec', 'Rec', 'F1']\n",
      "rows = ['API', 'fb-0.1-nothing', 'fb-0.1-rel'] #', 'API (th=0.2)', 'API (th=0.3)']\n",
      "\n",
      "res = [[0.7415, 0.7405, 0.7408,  0.8352, 0.8062, 0.8204], \n",
      "       [0.6522, 0.6519, 0.6521,  0.7253, 0.7198, 0.7225], # Wiki10*\n",
      "       [0.6226, 0.6218, 0.6220,  0.7363, 0.7161, 0.7216], # coh\n",
      "       [, , ,  0.7143, 0.7088, 0.7106] #coh0.8, cmn0.2\n",
      "       [0,0,0,                   0.7143, 0.7088, 0.7106]  # rel-th0.1\n",
      "       0.7143, 0.6941, 0.6996] # coh+relatedness\n",
      "\n",
      "print \"TagMe API results For Wiki-annot30 dataset\"\n",
      "my_df = df(res, index=rows, columns=cols)\n",
      "# my_df\n",
      "\n",
      "my_df_data = {'  Y-ERD': my_df.ix[:, [0, 1, 2]], ' ERD-dev': my_df.ix[:, [3, 4, 5]]}\n",
      "pd.concat(my_df_data, axis=1)"
     ],
     "language": "python",
     "metadata": {},
     "outputs": [
      {
       "output_type": "stream",
       "stream": "stdout",
       "text": [
        "TagMe API results For Wiki-annot30 dataset\n"
       ]
      },
      {
       "html": [
        "<div style=\"max-height:1000px;max-width:1500px;overflow:auto;\">\n",
        "<table border=\"1\" class=\"dataframe\">\n",
        "  <thead>\n",
        "    <tr>\n",
        "      <th></th>\n",
        "      <th colspan=\"3\" halign=\"left\">  Y-ERD</th>\n",
        "      <th colspan=\"3\" halign=\"left\"> ERD-dev</th>\n",
        "    </tr>\n",
        "    <tr>\n",
        "      <th></th>\n",
        "      <th>Prec</th>\n",
        "      <th>Rec</th>\n",
        "      <th>F1</th>\n",
        "      <th>Prec</th>\n",
        "      <th>Rec</th>\n",
        "      <th>F1</th>\n",
        "    </tr>\n",
        "  </thead>\n",
        "  <tbody>\n",
        "    <tr>\n",
        "      <th>API</th>\n",
        "      <td> 0.8352</td>\n",
        "      <td> 0.8062</td>\n",
        "      <td> 0.8132</td>\n",
        "      <td> 0.7415</td>\n",
        "      <td> 0.7405</td>\n",
        "      <td> 0.7408</td>\n",
        "    </tr>\n",
        "    <tr>\n",
        "      <th>fb-0.1-nothing</th>\n",
        "      <td> 0.0000</td>\n",
        "      <td> 0.0000</td>\n",
        "      <td> 0.0000</td>\n",
        "      <td> 0.6484</td>\n",
        "      <td> 0.6282</td>\n",
        "      <td> 0.6337</td>\n",
        "    </tr>\n",
        "  </tbody>\n",
        "</table>\n",
        "</div>"
       ],
       "metadata": {},
       "output_type": "pyout",
       "prompt_number": 16,
       "text": [
        "                 Y-ERD                  ERD-dev                \n",
        "                  Prec     Rec      F1     Prec     Rec      F1\n",
        "API             0.8352  0.8062  0.8132   0.7415  0.7405  0.7408\n",
        "fb-0.1-nothing  0.0000  0.0000  0.0000   0.6484  0.6282  0.6337"
       ]
      }
     ],
     "prompt_number": 16
    },
    {
     "cell_type": "code",
     "collapsed": false,
     "input": [],
     "language": "python",
     "metadata": {},
     "outputs": []
    }
   ],
   "metadata": {}
  }
 ]
}